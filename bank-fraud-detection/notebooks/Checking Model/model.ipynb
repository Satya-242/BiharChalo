{
 "cells": [
  {
   "cell_type": "code",
   "execution_count": 1,
   "id": "f1dd77df",
   "metadata": {},
   "outputs": [
    {
     "ename": "FileNotFoundError",
     "evalue": "[WinError 3] The system cannot find the path specified: 'data/processed'",
     "output_type": "error",
     "traceback": [
      "\u001b[1;31m---------------------------------------------------------------------------\u001b[0m",
      "\u001b[1;31mFileNotFoundError\u001b[0m                         Traceback (most recent call last)",
      "Cell \u001b[1;32mIn[1], line 8\u001b[0m\n\u001b[0;32m      6\u001b[0m \u001b[38;5;66;03m# Load processed data\u001b[39;00m\n\u001b[0;32m      7\u001b[0m data_path \u001b[38;5;241m=\u001b[39m \u001b[38;5;124m'\u001b[39m\u001b[38;5;124mdata/processed\u001b[39m\u001b[38;5;124m'\u001b[39m\n\u001b[1;32m----> 8\u001b[0m data_files \u001b[38;5;241m=\u001b[39m [f \u001b[38;5;28;01mfor\u001b[39;00m f \u001b[38;5;129;01min\u001b[39;00m os\u001b[38;5;241m.\u001b[39mlistdir(data_path) \u001b[38;5;28;01mif\u001b[39;00m f\u001b[38;5;241m.\u001b[39mendswith(\u001b[38;5;124m'\u001b[39m\u001b[38;5;124m.csv\u001b[39m\u001b[38;5;124m'\u001b[39m)]\n\u001b[0;32m      9\u001b[0m df \u001b[38;5;241m=\u001b[39m pd\u001b[38;5;241m.\u001b[39mread_csv(os\u001b[38;5;241m.\u001b[39mpath\u001b[38;5;241m.\u001b[39mjoin(data_path, data_files[\u001b[38;5;241m0\u001b[39m]))\n\u001b[0;32m     11\u001b[0m \u001b[38;5;66;03m# Load fraud report\u001b[39;00m\n",
      "\u001b[1;31mFileNotFoundError\u001b[0m: [WinError 3] The system cannot find the path specified: 'data/processed'"
     ]
    }
   ],
   "source": [
    "import pandas as pd\n",
    "import matplotlib.pyplot as plt\n",
    "import seaborn as sns\n",
    "import os\n",
    "\n",
    "# Load processed data\n",
    "data_path = 'data/processed'\n",
    "data_files = [f for f in os.listdir(data_path) if f.endswith('.csv')]\n",
    "df = pd.read_csv(os.path.join(data_path, data_files[0]))\n",
    "\n",
    "# Load fraud report\n",
    "fraud_report = pd.read_csv('reports/fraud_report.csv')\n",
    "\n",
    "# Assume 'is_fraud' column indicates fraud in df, and 'amount' is the transaction amount\n",
    "fraud_col = 'is_fraud' if 'is_fraud' in df.columns else fraud_report.columns[-1]\n",
    "amount_col = 'amount' if 'amount' in df.columns else fraud_report.columns[1]\n",
    "\n",
    "# Summary statistics\n",
    "total_transactions = len(df)\n",
    "fraud_transactions = df[fraud_col].sum()\n",
    "total_amount = df[amount_col].sum()\n",
    "fraud_amount = df[df[fraud_col] == 1][amount_col].sum()\n",
    "\n",
    "print(\"Summary:\")\n",
    "print(f\"Total transactions: {total_transactions}\")\n",
    "print(f\"Fraudulent transactions: {fraud_transactions}\")\n",
    "print(f\"Total amount transferred: {total_amount}\")\n",
    "print(f\"Fraudulent amount: {fraud_amount}\")\n",
    "\n",
    "# Parameters considered for fraud selection (from fraud_report)\n",
    "print(\"\\nFraud selection parameters:\")\n",
    "print(fraud_report.columns.tolist())\n",
    "\n",
    "# Visualizations\n",
    "plt.figure(figsize=(12, 5))\n",
    "\n",
    "plt.subplot(1, 2, 1)\n",
    "sns.countplot(x=fraud_col, data=df)\n",
    "plt.title('Fraud vs Non-Fraud Transactions')\n",
    "plt.xlabel('Is Fraud')\n",
    "plt.ylabel('Count')\n",
    "\n",
    "plt.subplot(1, 2, 2)\n",
    "sns.boxplot(x=fraud_col, y=amount_col, data=df)\n",
    "plt.title('Transaction Amount by Fraud Status')\n",
    "plt.xlabel('Is Fraud')\n",
    "plt.ylabel('Amount')\n",
    "\n",
    "plt.tight_layout()\n",
    "plt.show()"
   ]
  },
  {
   "cell_type": "code",
   "execution_count": null,
   "id": "596d2d44",
   "metadata": {},
   "outputs": [],
   "source": []
  },
  {
   "cell_type": "code",
   "execution_count": null,
   "id": "d7b067ea",
   "metadata": {},
   "outputs": [],
   "source": []
  },
  {
   "cell_type": "code",
   "execution_count": null,
   "id": "09b1cf5a",
   "metadata": {},
   "outputs": [],
   "source": []
  },
  {
   "cell_type": "code",
   "execution_count": null,
   "id": "817c6482",
   "metadata": {},
   "outputs": [],
   "source": []
  },
  {
   "cell_type": "code",
   "execution_count": null,
   "id": "d9daff30",
   "metadata": {},
   "outputs": [],
   "source": []
  }
 ],
 "metadata": {
  "kernelspec": {
   "display_name": "base",
   "language": "python",
   "name": "python3"
  },
  "language_info": {
   "codemirror_mode": {
    "name": "ipython",
    "version": 3
   },
   "file_extension": ".py",
   "mimetype": "text/x-python",
   "name": "python",
   "nbconvert_exporter": "python",
   "pygments_lexer": "ipython3",
   "version": "3.11.7"
  }
 },
 "nbformat": 4,
 "nbformat_minor": 5
}
