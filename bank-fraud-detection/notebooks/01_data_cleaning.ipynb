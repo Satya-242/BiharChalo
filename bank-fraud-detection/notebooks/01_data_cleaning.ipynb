{
 "cells": [
  {
   "cell_type": "code",
   "execution_count": 6,
   "id": "3090086f",
   "metadata": {},
   "outputs": [
    {
     "name": "stdout",
     "output_type": "stream",
     "text": [
      "✅ Data cleaned and saved to processed folder.\n"
     ]
    }
   ],
   "source": [
    "import pandas as pd\n",
    "import numpy as np\n",
    "from datetime import datetime\n",
    "\n",
    "# 📂 Load Raw Data\n",
    "transactions = pd.read_csv(r\"C:\\Users\\sinha\\OneDrive\\Documents\\Projects\\Bihar Hackathon\\bank-fraud-detection\\data\\raw\\transactions.csv\")\n",
    "bank_statements = pd.read_csv(r\"C:\\Users\\sinha\\OneDrive\\Documents\\Projects\\Bihar Hackathon\\bank-fraud-detection\\data\\raw\\bank_statements.csv\")\n",
    "personal_txns = pd.read_csv(r\"C:\\Users\\sinha\\OneDrive\\Documents\\Projects\\Bihar Hackathon\\bank-fraud-detection\\data\\raw\\MyTransaction.csv\")\n",
    "\n",
    "# 🧹 Clean `transactions.csv`\n",
    "transactions.columns = transactions.columns.str.strip()\n",
    "transactions['Timestamp'] = pd.to_datetime(transactions['Timestamp'])\n",
    "transactions['Amount (INR)'] = pd.to_numeric(transactions['Amount (INR)'], errors='coerce')\n",
    "transactions = transactions.dropna(subset=['Transaction ID', 'Sender UPI ID', 'Receiver UPI ID', 'Amount (INR)'])\n",
    "\n",
    "# Assign banks (mock)\n",
    "banks = ['example_hdfc', 'example_sbi', 'example_axis', 'example_icic_bank']\n",
    "transactions['sender_bank'] = np.random.choice(banks, size=len(transactions))\n",
    "transactions['receiver_bank'] = transactions['sender_bank'].apply(lambda x: np.random.choice([b for b in banks if b != x]))\n",
    "\n",
    "# 🧹 Clean `bank_statements.csv`\n",
    "bank_statements.columns = bank_statements.columns.str.strip()\n",
    "bank_statements['transactionTimestamp'] = pd.to_datetime(bank_statements['transactionTimestamp'], errors='coerce')\n",
    "bank_statements['amount'] = pd.to_numeric(bank_statements['amount'], errors='coerce')\n",
    "bank_statements = bank_statements.dropna(subset=['txnId', 'amount'])\n",
    "\n",
    "# 🧹 Clean `MyTransaction.csv`\n",
    "personal_txns.columns = personal_txns.columns.str.strip().str.lower()\n",
    "personal_txns.rename(columns={\n",
    "    'date': 'date',\n",
    "    'category': 'category',\n",
    "    'refno': 'ref_no',\n",
    "    'withdrawal': 'withdrawal',\n",
    "    'deposit': 'deposit',\n",
    "    'balance': 'balance'\n",
    "}, inplace=True)\n",
    "personal_txns['date'] = pd.to_datetime(personal_txns['date'], errors='coerce')\n",
    "personal_txns['withdrawal'] = pd.to_numeric(personal_txns['withdrawal'], errors='coerce')\n",
    "personal_txns['deposit'] = pd.to_numeric(personal_txns['deposit'], errors='coerce')\n",
    "personal_txns['balance'] = pd.to_numeric(personal_txns['balance'], errors='coerce')\n",
    "\n",
    "# ✅ Save Cleaned Data\n",
    "transactions.to_csv(r\"C:\\Users\\sinha\\OneDrive\\Documents\\Projects\\Bihar Hackathon\\bank-fraud-detection\\data\\processed\\cleaned_transactions.csv\", index=False)\n",
    "bank_statements.to_csv(r\"C:\\Users\\sinha\\OneDrive\\Documents\\Projects\\Bihar Hackathon\\bank-fraud-detection\\data\\processed\\cleaned_bank_statements.csv\", index=False)\n",
    "personal_txns.to_csv(r\"C:\\Users\\sinha\\OneDrive\\Documents\\Projects\\Bihar Hackathon\\bank-fraud-detection\\data\\processed\\cleaned_personal_txns.csv\", index=False)\n",
    "\n",
    "print(\"✅ Data cleaned and saved to processed folder.\")\n"
   ]
  },
  {
   "cell_type": "code",
   "execution_count": null,
   "id": "cc4ecd5f",
   "metadata": {},
   "outputs": [],
   "source": [
    "print(\"hello world\")"
   ]
  },
  {
   "cell_type": "code",
   "execution_count": null,
   "id": "88c84fc2",
   "metadata": {},
   "outputs": [],
   "source": []
  }
 ],
 "metadata": {
  "kernelspec": {
   "display_name": "base",
   "language": "python",
   "name": "python3"
  },
  "language_info": {
   "codemirror_mode": {
    "name": "ipython",
    "version": 3
   },
   "file_extension": ".py",
   "mimetype": "text/x-python",
   "name": "python",
   "nbconvert_exporter": "python",
   "pygments_lexer": "ipython3",
   "version": "3.11.7"
  }
 },
 "nbformat": 4,
 "nbformat_minor": 5
}
