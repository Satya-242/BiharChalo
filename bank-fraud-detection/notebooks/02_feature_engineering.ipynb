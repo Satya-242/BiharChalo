{
 "cells": [
  {
   "cell_type": "code",
   "execution_count": 2,
   "id": "802b9946",
   "metadata": {},
   "outputs": [
    {
     "name": "stdout",
     "output_type": "stream",
     "text": [
      "✅ Feature engineering complete. Saved to final_dataset.csv\n"
     ]
    }
   ],
   "source": [
    "# 📦 Import Libraries\n",
    "import pandas as pd\n",
    "import numpy as np\n",
    "\n",
    "# 📂 Load Cleaned Data from your system\n",
    "transactions = pd.read_csv(r\"C:\\Users\\sinha\\OneDrive\\Documents\\Projects\\Bihar Hackathon\\bank-fraud-detection\\data\\processed\\cleaned_transactions.csv\")\n",
    "\n",
    "# 🧠 Feature Engineering\n",
    "\n",
    "# Time-based features\n",
    "transactions['Timestamp'] = pd.to_datetime(transactions['Timestamp'])\n",
    "transactions['hour'] = transactions['Timestamp'].dt.hour\n",
    "transactions['day_of_week'] = transactions['Timestamp'].dt.dayofweek\n",
    "transactions['is_weekend'] = transactions['day_of_week'].isin([5, 6]).astype(int)\n",
    "transactions['time_of_day'] = pd.cut(\n",
    "    transactions['hour'],\n",
    "    bins=[0, 6, 12, 18, 24],\n",
    "    labels=['Night', 'Morning', 'Afternoon', 'Evening'],\n",
    "    right=False\n",
    ")\n",
    "\n",
    "# Amount features\n",
    "transactions['is_large_amount'] = (transactions['Amount (INR)'] > 10000).astype(int)\n",
    "\n",
    "# Same bank transfer flag\n",
    "transactions['same_bank_transfer'] = (transactions['sender_bank'] == transactions['receiver_bank']).astype(int)\n",
    "\n",
    "# Frequency features\n",
    "transactions.sort_values(['Sender UPI ID', 'Timestamp'], inplace=True)\n",
    "transactions['prev_txn_time'] = transactions.groupby('Sender UPI ID')['Timestamp'].shift(1)\n",
    "transactions['time_gap_seconds'] = (transactions['Timestamp'] - transactions['prev_txn_time']).dt.total_seconds()\n",
    "transactions['time_gap_seconds'] = transactions['time_gap_seconds'].fillna(999999)\n",
    "\n",
    "# Receiver repeat count\n",
    "transactions['receiver_repeat_count'] = transactions.groupby(['Sender UPI ID', 'Receiver UPI ID']).cumcount()\n",
    "\n",
    "# Rolling average transaction amount (per sender)\n",
    "transactions['avg_txn_amt_sender'] = (\n",
    "    transactions.groupby('Sender UPI ID')['Amount (INR)']\n",
    "    .rolling(window=5, min_periods=1)\n",
    "    .mean()\n",
    "    .reset_index(level=0, drop=True)\n",
    ")\n",
    "\n",
    "# Handle NaNs properly\n",
    "numeric_cols = transactions.select_dtypes(include=[np.number]).columns\n",
    "transactions[numeric_cols] = transactions[numeric_cols].fillna(0)\n",
    "\n",
    "# Fill categorical column safely\n",
    "transactions['time_of_day'] = transactions['time_of_day'].cat.add_categories(['Unknown']).fillna('Unknown')\n",
    "\n",
    "# ✅ Save Final Feature Dataset\n",
    "transactions.to_csv(r\"C:\\Users\\sinha\\OneDrive\\Documents\\Projects\\Bihar Hackathon\\bank-fraud-detection\\data\\processed\\final_dataset.csv\", index=False)\n",
    "\n",
    "print(\"✅ Feature engineering complete. Saved to final_dataset.csv\")\n"
   ]
  }
 ],
 "metadata": {
  "kernelspec": {
   "display_name": "base",
   "language": "python",
   "name": "python3"
  },
  "language_info": {
   "codemirror_mode": {
    "name": "ipython",
    "version": 3
   },
   "file_extension": ".py",
   "mimetype": "text/x-python",
   "name": "python",
   "nbconvert_exporter": "python",
   "pygments_lexer": "ipython3",
   "version": "3.11.7"
  }
 },
 "nbformat": 4,
 "nbformat_minor": 5
}
