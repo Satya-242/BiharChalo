{
 "cells": [
  {
   "cell_type": "code",
   "execution_count": 5,
   "id": "f23e2e97",
   "metadata": {},
   "outputs": [
    {
     "name": "stdout",
     "output_type": "stream",
     "text": [
      "✅ Model training complete. Fraud report and model saved.\n"
     ]
    },
    {
     "name": "stderr",
     "output_type": "stream",
     "text": [
      "c:\\Users\\sinha\\anaconda3\\Lib\\site-packages\\sklearn\\base.py:439: UserWarning: X does not have valid feature names, but IsolationForest was fitted with feature names\n",
      "  warnings.warn(\n"
     ]
    }
   ],
   "source": [
    "# 📦 Import Libraries\n",
    "import pandas as pd\n",
    "import numpy as np\n",
    "import os\n",
    "from sklearn.ensemble import IsolationForest\n",
    "from sklearn.preprocessing import LabelEncoder\n",
    "import joblib\n",
    "\n",
    "# 📂 Load Final Feature Data\n",
    "df = pd.read_csv(r\"C:\\Users\\sinha\\OneDrive\\Documents\\Projects\\Bihar Hackathon\\bank-fraud-detection\\data\\processed\\final_dataset.csv\")\n",
    "\n",
    "# 🎯 Select Features for Training\n",
    "features = [\n",
    "    'Amount (INR)', 'hour', 'day_of_week', 'is_weekend', 'is_large_amount',\n",
    "    'same_bank_transfer', 'time_gap_seconds', 'receiver_repeat_count', 'avg_txn_amt_sender'\n",
    "]\n",
    "\n",
    "# 🔢 Encode Categorical Variables\n",
    "label_cols = ['sender_bank', 'receiver_bank', 'time_of_day']\n",
    "for col in label_cols:\n",
    "    if df[col].dtype.name == 'category':\n",
    "        df[col] = df[col].astype(str)\n",
    "    le = LabelEncoder()\n",
    "    df[col] = le.fit_transform(df[col].astype(str))\n",
    "    features.append(col)\n",
    "\n",
    "# 🏗️ Train Isolation Forest (Unsupervised Anomaly Detection)\n",
    "model = IsolationForest(n_estimators=100, contamination=0.05, random_state=42)\n",
    "model.fit(df[features])\n",
    "\n",
    "# 🚨 Predict Anomalies\n",
    "df['is_fraud'] = model.predict(df[features])\n",
    "df['is_fraud'] = df['is_fraud'].map({1: 0, -1: 1})  # 1 = fraud, 0 = normal\n",
    "\n",
    "# 🗂️ Ensure Output Directories Exist\n",
    "report_path = r\"C:\\Users\\sinha\\OneDrive\\Documents\\Projects\\Bihar Hackathon\\bank-fraud-detection\\reports\"\n",
    "model_path = r\"C:\\Users\\sinha\\OneDrive\\Documents\\Projects\\Bihar Hackathon\\bank-fraud-detection\\models\"\n",
    "\n",
    "os.makedirs(report_path, exist_ok=True)\n",
    "os.makedirs(model_path, exist_ok=True)\n",
    "\n",
    "# 📝 Save Fraud Report\n",
    "fraud_df = df[df['is_fraud'] == 1]\n",
    "fraud_df.to_csv(os.path.join(report_path, \"fraud_report.csv\"), index=False)\n",
    "\n",
    "# 💾 Save Model\n",
    "joblib.dump(model, os.path.join(model_path, \"fraud_model.pkl\"))\n",
    "\n",
    "print(\"✅ Model training complete. Fraud report and model saved.\")\n"
   ]
  }
 ],
 "metadata": {
  "kernelspec": {
   "display_name": "base",
   "language": "python",
   "name": "python3"
  },
  "language_info": {
   "codemirror_mode": {
    "name": "ipython",
    "version": 3
   },
   "file_extension": ".py",
   "mimetype": "text/x-python",
   "name": "python",
   "nbconvert_exporter": "python",
   "pygments_lexer": "ipython3",
   "version": "3.11.7"
  }
 },
 "nbformat": 4,
 "nbformat_minor": 5
}
